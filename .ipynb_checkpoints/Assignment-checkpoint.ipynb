{
 "cells": [
  {
   "cell_type": "code",
   "execution_count": 4,
   "metadata": {},
   "outputs": [],
   "source": [
    "import pandas as pd\n",
    "import numpy as np\n",
    "import re"
   ]
  },
  {
   "cell_type": "code",
   "execution_count": 49,
   "metadata": {},
   "outputs": [],
   "source": [
    "def stratify(path):\n",
    "    try:\n",
    "        data = pd.read_csv(path, low_memory=False)\n",
    "        \n",
    "        df = data.copy()\n",
    "\n",
    "        df.FileSize = np.around(df['FileSize']/1000000,1) # convert size to megabytes\n",
    "        df['Hours'] = df.Comment.str.extract(r'(\\d{2})') # hour of the day \n",
    "        stratify = df[(df.FileSize == 46.1) & (abs(df.Duration-60) <=1)] # successful recordings\n",
    "        AM_1 = set(stratify.AudioMothCode.unique())\n",
    "\n",
    "        # make sure 24 clips\n",
    "        AM_2 = stratify.groupby('AudioMothCode')['Hours'].nunique() == 24\n",
    "        AM_2 = set(AM_2.loc[AM_2 == True].index)\n",
    "\n",
    "        # eligible AMs\n",
    "        AMs = AM_1.intersection(AM_2)\n",
    "        AMs.remove('AM-8')\n",
    "        AMs.add('AM-18')\n",
    "        Hours = df.Hours.dropna().unique()\n",
    "        \n",
    "        # random sample\n",
    "        stratified_sample = []\n",
    "        for am in AMs:\n",
    "            for hr in Hours:\n",
    "                rs = stratify[(stratify.AudioMothCode == am) & (stratify.Hours == hr)].sample(1)\n",
    "                stratified_sample.append(rs)\n",
    "        print('here')\n",
    "        answer = pd.concat(stratified_sample)  # the outcome csv\n",
    "        return answer\n",
    "    except:\n",
    "        return False\n",
    "        "
   ]
  },
  {
   "cell_type": "code",
   "execution_count": 50,
   "metadata": {},
   "outputs": [],
   "source": [
    "data = stratify('Peru_2019_AudioMoth_Data_Full.csv')"
   ]
  },
  {
   "cell_type": "code",
   "execution_count": 143,
   "metadata": {},
   "outputs": [
    {
     "data": {
      "text/plain": [
       "array(['10', '11'], dtype=object)"
      ]
     },
     "execution_count": 143,
     "metadata": {},
     "output_type": "execute_result"
    }
   ],
   "source": [
    "stratify[stratify.AudioMothCode == 'AM-18']['Hours'].unique()"
   ]
  },
  {
   "cell_type": "code",
   "execution_count": null,
   "metadata": {},
   "outputs": [],
   "source": []
  }
 ],
 "metadata": {
  "kernelspec": {
   "display_name": "Python 3",
   "language": "python",
   "name": "python3"
  },
  "language_info": {
   "codemirror_mode": {
    "name": "ipython",
    "version": 3
   },
   "file_extension": ".py",
   "mimetype": "text/x-python",
   "name": "python",
   "nbconvert_exporter": "python",
   "pygments_lexer": "ipython3",
   "version": "3.7.6"
  }
 },
 "nbformat": 4,
 "nbformat_minor": 4
}
